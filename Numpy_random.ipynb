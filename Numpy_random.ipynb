{
 "cells": [
  {
   "cell_type": "markdown",
   "metadata": {},
   "source": [
    "# Numpy Random functions"
   ]
  },
  {
   "cell_type": "markdown",
   "metadata": {},
   "source": [
    "### Random basic"
   ]
  },
  {
   "cell_type": "code",
   "execution_count": null,
   "metadata": {},
   "outputs": [],
   "source": [
    "import numpy as np"
   ]
  },
  {
   "cell_type": "code",
   "execution_count": 3,
   "metadata": {},
   "outputs": [
    {
     "name": "stdout",
     "output_type": "stream",
     "text": [
      "[0.61855625 0.36588311 0.1492574 ]\n"
     ]
    }
   ],
   "source": [
    "a=np.random.random(3)\n",
    "print(a)"
   ]
  },
  {
   "cell_type": "code",
   "execution_count": 12,
   "metadata": {},
   "outputs": [
    {
     "name": "stdout",
     "output_type": "stream",
     "text": [
      "[[[0.06504034 0.29521174 0.78108631]\n",
      "  [0.78408282 0.97242478 0.61048987]\n",
      "  [0.16703868 0.20103661 0.02580023]]\n",
      "\n",
      " [[0.53141968 0.29592592 0.39742434]\n",
      "  [0.80176307 0.5739357  0.77198841]\n",
      "  [0.27398073 0.55784641 0.33108531]]]\n"
     ]
    }
   ],
   "source": [
    "a=np.random.random((2,3,3))# produce 3 rows with 3 columns random numbers\n",
    "print(a)"
   ]
  },
  {
   "cell_type": "markdown",
   "metadata": {},
   "source": [
    "### Rand function"
   ]
  },
  {
   "cell_type": "code",
   "execution_count": 14,
   "metadata": {},
   "outputs": [
    {
     "name": "stdout",
     "output_type": "stream",
     "text": [
      "[[0.91795625 0.64068669 0.8625213 ]\n",
      " [0.55795244 0.4321249  0.35106893]\n",
      " [0.4237965  0.2382899  0.36610382]]\n",
      "*************\n",
      "[[[0.2697266  0.52946047 0.82723992]\n",
      "  [0.95067251 0.36577426 0.13269156]\n",
      "  [0.36470978 0.161191   0.26142098]]\n",
      "\n",
      " [[0.17500397 0.13186929 0.49402178]\n",
      "  [0.04278621 0.4643309  0.57858359]\n",
      "  [0.82918689 0.96176072 0.69432725]]\n",
      "\n",
      " [[0.85646517 0.92760036 0.95330564]\n",
      "  [0.32555744 0.12297432 0.44760952]\n",
      "  [0.68798212 0.15049673 0.35686347]]\n",
      "\n",
      " [[0.08112523 0.86835389 0.98927127]\n",
      "  [0.81922491 0.71086332 0.32627444]\n",
      "  [0.85846336 0.25502925 0.05960112]]]\n"
     ]
    }
   ],
   "source": [
    "b=np.random.rand(3,3)\n",
    "print(b)\n",
    "print(\"*************\")\n",
    "c=np.random.rand(4,3,3)\n",
    "print(c)"
   ]
  },
  {
   "cell_type": "code",
   "execution_count": 16,
   "metadata": {},
   "outputs": [
    {
     "name": "stdout",
     "output_type": "stream",
     "text": [
      "[[ 0.96806434  1.17078802  0.35024364]\n",
      " [ 1.7209695   0.40681478 -0.68936928]\n",
      " [ 1.76280204  2.8751488   1.56422933]]\n"
     ]
    }
   ],
   "source": [
    "d=np.random.randn(3,3)  #n is for negative therefore we have both negative and positive numbers\n",
    "print(d)"
   ]
  },
  {
   "cell_type": "code",
   "execution_count": 26,
   "metadata": {},
   "outputs": [
    {
     "name": "stdout",
     "output_type": "stream",
     "text": [
      "31\n",
      "[[33  9 56]\n",
      " [22 90 20]\n",
      " [18 76 41]]\n"
     ]
    }
   ],
   "source": [
    "e=np.random.randint(1,100)# single integer between given range 1 to 99\n",
    "print(e)\n",
    "f=np.random.randint(1,100,size=(3,3))# single integer between given range 1 to 99\n",
    "print(f)"
   ]
  },
  {
   "cell_type": "markdown",
   "metadata": {},
   "source": [
    "## random.choice"
   ]
  },
  {
   "cell_type": "code",
   "execution_count": 35,
   "metadata": {},
   "outputs": [
    {
     "name": "stdout",
     "output_type": "stream",
     "text": [
      "Sunny\n",
      "[['Sunny' 'Andy']\n",
      " ['Tony' 'Sunny']]\n"
     ]
    }
   ],
   "source": [
    "name_list=['MArk','Tony','Sunny','Ricky','Andy']\n",
    "g=np.random.choice(name_list)\n",
    "print(g)\n",
    "h=np.random.choice(name_list,size=(2,2))#size can be (3,3)\n",
    "print(h)"
   ]
  },
  {
   "cell_type": "code",
   "execution_count": null,
   "metadata": {},
   "outputs": [],
   "source": []
  }
 ],
 "metadata": {
  "kernelspec": {
   "display_name": "Python 3",
   "language": "python",
   "name": "python3"
  },
  "language_info": {
   "codemirror_mode": {
    "name": "ipython",
    "version": 3
   },
   "file_extension": ".py",
   "mimetype": "text/x-python",
   "name": "python",
   "nbconvert_exporter": "python",
   "pygments_lexer": "ipython3",
   "version": "3.6.9"
  }
 },
 "nbformat": 4,
 "nbformat_minor": 2
}
